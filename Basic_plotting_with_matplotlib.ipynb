{
 "cells": [
  {
   "cell_type": "markdown",
   "metadata": {},
   "source": [
    "# Basic Plotting with Matplotlib\n",
    "___"
   ]
  },
  {
   "cell_type": "markdown",
   "metadata": {},
   "source": [
    "Our Data Analytics Cycle ends with visualizing your data in a clean and easy-to-understand way and present it to your stakeholders. We will get to know Tableau as tool for visualizing your results later in this course. However, Data visualization already plays an important role during Exploratory Data Analysis. Therefore, we will show you how to create basic plots with Python's Matplotlib module.  \n",
    "\n",
    "Matplotlib is widely used and can be considered the \"mainstream\" tool, although there are a multitude of other visualization modules for Python.  \n",
    "\n",
    "This notebooks focus on creating basic plots needed in an EDA with Matplotlib.\n",
    "\n",
    "As in our pandas visualization notebook, we will use the red wine data to explore the plotting options."
   ]
  },
  {
   "cell_type": "markdown",
   "metadata": {},
   "source": [
    "### Read in data and setting-Up the matplotlib module"
   ]
  },
  {
   "cell_type": "code",
   "execution_count": null,
   "metadata": {},
   "outputs": [],
   "source": [
    "# Import pandas module\n",
    "import pandas as pd"
   ]
  },
  {
   "cell_type": "code",
   "execution_count": null,
   "metadata": {},
   "outputs": [],
   "source": [
    "# Read in wine data\n",
    "df = pd.read_csv(\"data/winequality-red.csv\", delimiter = ';')\n",
    "df.head()"
   ]
  },
  {
   "cell_type": "code",
   "execution_count": null,
   "metadata": {},
   "outputs": [],
   "source": [
    "# Import just the 'pyplot' elements of the matplotlib package\n",
    "import matplotlib.pyplot as plt "
   ]
  },
  {
   "cell_type": "markdown",
   "metadata": {},
   "source": [
    "### Create basic plots"
   ]
  },
  {
   "cell_type": "markdown",
   "metadata": {},
   "source": [
    "Within the next code blocks, you will see that with Matplotlib, you are able to customize your plots by assigning different styles, axis-labels, a title and the ticks.  \n",
    "\n",
    "See [here](https://matplotlib.org/2.0.2/examples/style_sheets/style_sheets_reference.html) for more details on styles or run this code to get a list of what is available:\n",
    "\n",
    "```plt.style.available``` - feel free to try them out by replacing the ones we are using here!\n",
    "\n",
    "Each time we use a function of matplotlib, we have to use the ```plt``` prefix that we imported earlier to let python know that we want to use part of the matplotlib package.  \n",
    "\n",
    "Note, that this notebook will show you the basic functionalities and that there are a lot more customization options available."
   ]
  },
  {
   "cell_type": "markdown",
   "metadata": {},
   "source": [
    "#### Histogram"
   ]
  },
  {
   "cell_type": "markdown",
   "metadata": {},
   "source": [
    "Let's create the same histogramm as we did before with pandas, this time using the basic functionalities of Matplotlib."
   ]
  },
  {
   "cell_type": "code",
   "execution_count": null,
   "metadata": {},
   "outputs": [],
   "source": [
    "# Use predefined style ggplot\n",
    "plt.style.use('ggplot') \n",
    "\n",
    "# Set figure size\n",
    "plt.figure(figsize=(6, 4))\n",
    "\n",
    "# Create histogram by specifying x-value\n",
    "plt.hist(x = df['quality'])\n",
    "\n",
    "# Label your axes\n",
    "plt.xlabel(\"Quality\")\n",
    "plt.ylabel(\"Frequency\")\n",
    "\n",
    "# Set title\n",
    "plt.title(\"Distribution of Red Wine quality\")\n",
    "\n",
    "# Show graphic\n",
    "plt.show()"
   ]
  },
  {
   "cell_type": "markdown",
   "metadata": {},
   "source": [
    "**Extras:** \n",
    "- You can specify the number of bins, otherwise Matplotlib will generate 10 bins as default. See the difference in the output.  \n",
    "- Use ```orientation = 'horizontal'``` the create a horizontal histogram\n",
    "- Use ```edgecolor = 'k'```to show the boarders of each bin \n",
    "- Check out other options [here](https://matplotlib.org/stable/api/_as_gen/matplotlib.pyplot.hist.html)"
   ]
  },
  {
   "cell_type": "code",
   "execution_count": null,
   "metadata": {},
   "outputs": [],
   "source": [
    "# Use predefined style ggplot\n",
    "plt.style.use('ggplot') \n",
    "\n",
    "# Set figure size\n",
    "plt.figure(figsize=(6, 4))\n",
    "\n",
    "# Create histogram by specifying x-value\n",
    "plt.hist(x = df['quality'], bins = 6, orientation = 'horizontal', color = 'royalblue', edgecolor = 'k')\n",
    "\n",
    "# Label your axes\n",
    "plt.xlabel(\"Quality\")\n",
    "plt.ylabel(\"Frequency\")\n",
    "\n",
    "# Set title\n",
    "plt.title(\"Distribution of Red Wine quality\")\n",
    "\n",
    "# Show graphic\n",
    "plt.show();"
   ]
  },
  {
   "cell_type": "markdown",
   "metadata": {},
   "source": [
    "#### Scatterplot"
   ]
  },
  {
   "cell_type": "markdown",
   "metadata": {},
   "source": [
    "Let's also plot the Scatterplot we have already created with pandas, this time using a different style than above and adapting the fontsize of the titles."
   ]
  },
  {
   "cell_type": "code",
   "execution_count": null,
   "metadata": {},
   "outputs": [],
   "source": [
    "# Use predefined style from the popular FiveThirtyEight website\n",
    "plt.style.use('fivethirtyeight') \n",
    "\n",
    "# Set figure size\n",
    "plt.figure(figsize=(6, 4))\n",
    "\n",
    "# Create scatterplpot by specifying x- and y-values\n",
    "plt.scatter(x = df['total sulfur dioxide'], y = df['free sulfur dioxide'])\n",
    "\n",
    "# Label your axes\n",
    "plt.xlabel(\"total sulfur dioxide\", fontsize = 12)\n",
    "plt.ylabel(\"free sulfur dioxide\", fontsize = 12)\n",
    "\n",
    "# Set title\n",
    "plt.title(\"Relationship between total sulfur dioxide and free sulfur dioxide\", fontsize = 15)\n",
    "\n",
    "# Show graphic\n",
    "plt.show()"
   ]
  },
  {
   "cell_type": "markdown",
   "metadata": {},
   "source": [
    "**Extras:**  \n",
    "- to change the shape of your markers, you can f.e use: ```marker = 'x'```\n",
    "- for changing the color, you can specify the color parameter\n",
    "- see further options [here](https://matplotlib.org/stable/api/_as_gen/matplotlib.pyplot.scatter.html)"
   ]
  },
  {
   "cell_type": "code",
   "execution_count": null,
   "metadata": {},
   "outputs": [],
   "source": [
    "# Use predefined style from the popular FiveThirtyEight website\n",
    "plt.style.use('fivethirtyeight') \n",
    "\n",
    "# Set figure size\n",
    "plt.figure(figsize=(6, 4))\n",
    "\n",
    "# Create scatterplpot by specifying x- and y-values\n",
    "plt.scatter(x = df['total sulfur dioxide'], y = df['free sulfur dioxide'], marker = 'x', color = 'darkorange')\n",
    "\n",
    "# Label your axes\n",
    "plt.xlabel(\"total sulfur dioxide\", fontsize = 12)\n",
    "plt.ylabel(\"free sulfur dioxide\", fontsize = 12)\n",
    "\n",
    "# Set title\n",
    "plt.title(\"Relationship between total sulfur dioxide and free sulfur dioxide\", fontsize = 15)\n",
    "\n",
    "# Show graphic\n",
    "plt.show()"
   ]
  },
  {
   "cell_type": "markdown",
   "metadata": {},
   "source": [
    "#### Boxplot"
   ]
  },
  {
   "cell_type": "markdown",
   "metadata": {},
   "source": [
    "Let's have a look at a boxplot - We will plot two boxplots within one graph and therefore, will need to adjust the xticks."
   ]
  },
  {
   "cell_type": "code",
   "execution_count": null,
   "metadata": {},
   "outputs": [],
   "source": [
    "# define style\n",
    "plt.style.use('seaborn-bright') \n",
    "\n",
    "# Set figure size\n",
    "plt.figure(figsize=(6, 4))\n",
    "\n",
    "# Create boxplots for distribution of alcohol and fixed acidity\n",
    "plt.boxplot(x = [df['fixed acidity'], df['alcohol']])\n",
    "\n",
    "# Set locations and labels of ticks on x-axis as well as rotation\n",
    "plt.xticks(ticks=[1, 2], labels=['fixed acidity', 'alcohol'], rotation=45)\n",
    "\n",
    "# Set title\n",
    "plt.title(\"Distribution of Features\", fontsize = 15)\n",
    "\n",
    "# Show graphic\n",
    "plt.show()"
   ]
  },
  {
   "cell_type": "markdown",
   "metadata": {},
   "source": [
    "See further options [here](https://matplotlib.org/stable/api/_as_gen/matplotlib.pyplot.boxplot.html)."
   ]
  },
  {
   "cell_type": "markdown",
   "metadata": {},
   "source": [
    "#### Pie plot"
   ]
  },
  {
   "cell_type": "markdown",
   "metadata": {},
   "source": [
    "In some cases, pie plots might be useful - Let's have a look how to create them with Matplotlib."
   ]
  },
  {
   "cell_type": "code",
   "execution_count": null,
   "metadata": {},
   "outputs": [],
   "source": [
    "# Use predefined style\n",
    "plt.style.use('seaborn-pastel') \n",
    "\n",
    "# Set figure size\n",
    "plt.figure(figsize=(8, 15))\n",
    "\n",
    "# Create pie-chart which shows percentage of observations in each quality category\n",
    "# 1. Define x-value - we want to get the count of rows for each value in the column using .value_counts()\n",
    "x = df['quality'].value_counts(sort=False)\n",
    "# 2. Define labels\n",
    "mylabels = [\"3\", \"4\", \"5\", \"6\", \"7\", \"8\"]\n",
    "# 3. Plot pie chart for variable x, percentage values should be displayed in certain distance \n",
    "# between center of pie slice and start of the text as well as in certain fontsize.\n",
    "plt.pie(x, autopct='%1.1f%%', pctdistance=1.1, textprops={'fontsize': 12})\n",
    "\n",
    "# Set title\n",
    "plt.title(\"Quality Categories\", fontsize = 15)\n",
    "\n",
    "# Create legend\n",
    "plt.legend(mylabels, title='Categories', loc = 'upper right')\n",
    "\n",
    "# Show graphicx = df['quality'].value_counts()\n",
    "plt.show()"
   ]
  },
  {
   "cell_type": "markdown",
   "metadata": {},
   "source": [
    "For further options, check out the [documentation](https://matplotlib.org/stable/api/_as_gen/matplotlib.pyplot.pie.html)."
   ]
  },
  {
   "cell_type": "markdown",
   "metadata": {},
   "source": [
    "#### Barchart"
   ]
  },
  {
   "cell_type": "markdown",
   "metadata": {},
   "source": [
    "A Barchart is a very common type of graphics and shows the relationship between numeric and a categoric variable. You can create vertical and horizontal barcharts with ```plt.bar``` or ```plt.barh``` respectively."
   ]
  },
  {
   "cell_type": "code",
   "execution_count": null,
   "metadata": {},
   "outputs": [],
   "source": [
    "# We want to show the mean value of pH per quality category. Therefor, let's first group our dataframe by quality \n",
    "df_grouped = df.groupby(['quality']).mean().reset_index()\n",
    "df_grouped.head()"
   ]
  },
  {
   "cell_type": "code",
   "execution_count": null,
   "metadata": {},
   "outputs": [],
   "source": [
    "# Use predefined style\n",
    "plt.style.use('bmh') \n",
    "\n",
    "# Set figure size\n",
    "plt.figure(figsize=(6, 4))\n",
    "\n",
    "# Create vertical barplot for pH value per quality category\n",
    "plt.bar(df_grouped['quality'], df_grouped['pH']);\n",
    "\n",
    "# Label your axes\n",
    "plt.xlabel(\"Quality\", fontsize = 12)\n",
    "plt.ylabel(\"pH\", fontsize = 12)\n",
    "\n",
    "# Set title\n",
    "plt.title(\"Average pH value per category\", fontsize = 15)\n",
    "\n",
    "\n",
    "# Show graphic\n",
    "plt.show()"
   ]
  },
  {
   "cell_type": "markdown",
   "metadata": {},
   "source": [
    "**Extras:**  \n",
    "- We can adapt the range of the y-axis in order to see differences more clearly (see output below)\n",
    "- See [here](https://matplotlib.org/stable/api/_as_gen/matplotlib.pyplot.bar.html) for the documentation"
   ]
  },
  {
   "cell_type": "code",
   "execution_count": null,
   "metadata": {},
   "outputs": [],
   "source": [
    "# Set up data\n",
    "labels = ['Misleading']\n",
    "yes = [99]\n",
    "no = [1]\n",
    "\n",
    "# Use predefined style\n",
    "plt.style.use('fivethirtyeight') \n",
    "\n",
    "# Set figure size\n",
    "plt.figure(figsize=(6, 4))\n",
    "\n",
    "# Create stacked bars for values per category\n",
    "plt.bar(labels, no, bottom=yes, label='No')\n",
    "plt.bar(labels, yes, label='Yes')\n",
    "\n",
    "# Label the y axis\n",
    "plt.ylabel(\"Percent\", fontsize = 12)\n",
    "\n",
    "# define range of y-axis - The important part :)\n",
    "plt.ylim([98, 100])\n",
    "\n",
    "# Set title\n",
    "plt.title(\"Is truncating the y axis misleading?\", fontsize = 12)\n",
    "\n",
    "# Set legend\n",
    "plt.legend(['No','Yes'], loc='center left', frameon=False, fontsize=40)\n",
    "\n",
    "# Show graphic\n",
    "plt.show()"
   ]
  },
  {
   "cell_type": "markdown",
   "metadata": {},
   "source": [
    "#### Lineplot"
   ]
  },
  {
   "cell_type": "markdown",
   "metadata": {},
   "source": [
    "Let's also look at how to create Lineplots with Matplotlib. Line Plots display numerical values on one axis, and categorical values on the other. We want to show again the mean pH value per quality category.  \n",
    "We will use our grouped dataframe."
   ]
  },
  {
   "cell_type": "code",
   "execution_count": null,
   "metadata": {},
   "outputs": [],
   "source": [
    "# Use predefined style\n",
    "plt.style.use('bmh') \n",
    "\n",
    "# Set figure size\n",
    "plt.figure(figsize=(6, 4))\n",
    "\n",
    "# We will again use our grouped dataframe \n",
    "plt.plot(df_grouped['quality'], df_grouped['pH']);\n",
    "\n",
    "# Label your axes\n",
    "plt.xlabel(\"Quality\", fontsize = 12)\n",
    "plt.ylabel(\"pH\", fontsize = 12)\n",
    "\n",
    "# Set title\n",
    "plt.title(\"Average pH value per category\", fontsize = 15)\n",
    "\n",
    "# Show graphic\n",
    "plt.show()"
   ]
  },
  {
   "cell_type": "markdown",
   "metadata": {},
   "source": [
    "Check out the documentation [here](https://matplotlib.org/stable/api/_as_gen/matplotlib.pyplot.plot.html)."
   ]
  },
  {
   "cell_type": "markdown",
   "metadata": {},
   "source": [
    "___"
   ]
  },
  {
   "cell_type": "markdown",
   "metadata": {},
   "source": [
    "In this notebook, you have seen some basic plotting functionalities of Matplotlib.  \n",
    "If you want to explore and practice more advanced options, check out the notebooks in the [notebook folder](notebooks).\n"
   ]
  },
  {
   "cell_type": "markdown",
   "metadata": {},
   "source": []
  }
 ],
 "metadata": {
  "interpreter": {
   "hash": "52746facf0ff27bba74d90023bea822bf28860e85219d052de28537e22041b59"
  },
  "kernelspec": {
   "display_name": "Python 3.8.5 64-bit ('nf_base': conda)",
   "name": "python3"
  },
  "language_info": {
   "codemirror_mode": {
    "name": "ipython",
    "version": 3
   },
   "file_extension": ".py",
   "mimetype": "text/x-python",
   "name": "python",
   "nbconvert_exporter": "python",
   "pygments_lexer": "ipython3",
   "version": "3.8.5"
  }
 },
 "nbformat": 4,
 "nbformat_minor": 5
}
