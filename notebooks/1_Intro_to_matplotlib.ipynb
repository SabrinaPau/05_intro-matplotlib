{
 "cells": [
  {
   "cell_type": "markdown",
   "id": "operational-christianity",
   "metadata": {},
   "source": [
    "\n",
    "# Intro to Plotting with Matplotlib\n",
    "\n",
    "Today we're going to take our first steps into the wide world of plotting in Python using the Matplotlib library. This is the most used plotting package and the basis of many other popular visualization packages.\n",
    "\n",
    "## Learning Objective\n",
    "\n",
    "The goal of data visualization is to learn and communicate insights about a dataset, in the initial examples we will use simple functions y=F(x) as the basis for our charts before moving onto working with more complex sample datasets.\n",
    "At the end of this notebook you will be able to:\n",
    "\n",
    "*    Import the required libraries into a notebook\n",
    "*    Understand the differences of working with Matplotlib in notebooks versus in scripts\n",
    "*    Create plots based on simple datasets\n",
    "*    Create structures containing multiple charts\n",
    "*    Understand how to work with matplotlib objects\n",
    "*    Resize and add titles to figures and charts\n",
    "*    Modify the elements of a chart such as the axis, line type and color\n",
    "\n",
    "\n",
    "Sources:\n",
    "https://github.com/jakevdp/PythonDataScienceHandbookPython Data Science Handbook by Jake VanderPlas, published by O'Reilly\n",
    "https://www.statology.org/matplotlib-subplot-spacing/ - Statolgy"
   ]
  },
  {
   "cell_type": "markdown",
   "id": "tight-mentor",
   "metadata": {},
   "source": [
    "### Import Matplotlib"
   ]
  },
  {
   "cell_type": "code",
   "execution_count": 2,
   "id": "female-locking",
   "metadata": {},
   "outputs": [],
   "source": [
    "import matplotlib # Imports entire matplotlib library\n",
    "import matplotlib.pyplot as plt # Imports the plotting interface and gives a shortcut\n",
    "import numpy as np # we will use numpy to generate the data used in our sample charts"
   ]
  },
  {
   "cell_type": "markdown",
   "id": "clear-federation",
   "metadata": {},
   "source": [
    "### Understand your coding environment\n",
    "Matplotlib can be used to create charts in many contexts, and it is important to write your code depending on how and where it will be run.\n",
    "When working with matplotlib in a script that will be run as a .py file, the function `plt.show()` needs to be executed to render any chart that has been created in the script.\n",
    "\n",
    "Here, we are working in a Jupyter notebook environment so the `plt.show()` function is **not necessary**.  \n",
    "To let you know:  \n",
    "With older version of Jupyter notebooks, there may be the need to tell our machine to render the images below our code or 'inline'.  \n",
    "We use the magic function `%matplotlib inline` to have the charts displayed in the notebook.  \n",
    "Anyways, executing the following 'line magic' keeps you on the safe side!"
   ]
  },
  {
   "cell_type": "code",
   "execution_count": 5,
   "id": "outstanding-buyer",
   "metadata": {},
   "outputs": [],
   "source": [
    "%matplotlib inline"
   ]
  },
  {
   "cell_type": "markdown",
   "id": "removable-deviation",
   "metadata": {},
   "source": [
    "### First Plot!\n",
    "We will create some x and y values and display this in a simple chart"
   ]
  },
  {
   "cell_type": "code",
   "execution_count": 8,
   "id": "clean-hollywood",
   "metadata": {},
   "outputs": [
    {
     "data": {
      "image/png": "[encoded data removed]",
      "text/plain": [
       "<Figure size 432x288 with 1 Axes>"
      ]
     },
     "metadata": {
      "needs_background": "light"
     },
     "output_type": "display_data"
    }
   ],
   "source": [
    "x = np.linspace(0, 10, 100) # create an array of numbers to use as our x values\n",
    "y = np.sin(x) # generates corresponding y values based on the sin function\n",
    "fig = plt.figure() # initializes the figure, which is the container holding the chart elements\n",
    "plt.plot(x, y) # plots the points based on the values for x and y\n",
    "# plt.show()"
   ]
  },
  {
   "cell_type": "markdown",
   "id": "abstract-appendix",
   "metadata": {},
   "source": [
    "We can plot additional curves on the same plot by calling the plt.plot method multiple times in a single code block\n",
    "We can also suppress the output of the python output `[<matplotlib.lines.Line2D at 0x7fdb5779b550>]`by using a ';' at the end of the code block, which results in a cleaner display."
   ]
  },
  {
   "cell_type": "code",
   "execution_count": null,
   "id": "banner-neutral",
   "metadata": {},
   "outputs": [],
   "source": [
    "x = np.linspace(0, 10, 100)\n",
    "fig = plt.figure()\n",
    "plt.plot(x, np.sin(x))\n",
    "plt.plot(x, np.cos(x));"
   ]
  },
  {
   "cell_type": "markdown",
   "id": "limiting-constitution",
   "metadata": {},
   "source": [
    "Notice matplotlib automatically sets different colors for the lines. The default values for color choice as well as general chart properties can be set explicitly using the style tool.\n",
    "When we tell matplotlib to use the 'fivethirtyeight' style all subsequent plots will take on new default characteristics (based on the style of Nate Silvers' website)."
   ]
  },
  {
   "cell_type": "code",
   "execution_count": null,
   "id": "roman-chosen",
   "metadata": {},
   "outputs": [],
   "source": [
    "plt.style.use('fivethirtyeight')"
   ]
  },
  {
   "cell_type": "code",
   "execution_count": null,
   "id": "considered-appendix",
   "metadata": {},
   "outputs": [],
   "source": [
    "x = np.linspace(0, 10, 100)\n",
    "fig = plt.figure()\n",
    "plt.plot(x, np.sin(x))\n",
    "plt.plot(x, np.cos(x));"
   ]
  },
  {
   "cell_type": "markdown",
   "id": "annual-helena",
   "metadata": {},
   "source": [
    "See here for more details on styles: \n",
    "https://matplotlib.org/2.0.2/examples/style_sheets/style_sheets_reference.html\n",
    "or run this code to get a list of what is available:\n",
    "\n",
    "`plt.style.available`\n"
   ]
  },
  {
   "cell_type": "markdown",
   "id": "proof-scratch",
   "metadata": {},
   "source": [
    "Notice that changing the style this way affects all subsequent plots.\n",
    "It is possible to temporarily evoke a style:   \n",
    "\n",
    "\n",
    "`with plt.style.context('stylename'):\n",
    "    make_a_plot()`\n"
   ]
  },
  {
   "cell_type": "markdown",
   "id": "streaming-reservoir",
   "metadata": {},
   "source": [
    "### Building Figures and Axes\n",
    "Up to know we have plotted two lines a single chart in a frame. The power of Matplotlib comes from being able to display multiple charts in a frame. There are two ways to do this and understanding which one you are using is key to being able to interact nicely with the objects you create.\n",
    "\n",
    "### Interface 1: MATLAB-style\n",
    "Matplotlib was built as a open source alternative for MATLAB (sounds similar rolling off the tongue somehow). In this interface the 'plt' contains all the tools for manipulating the charts.\n",
    "\n",
    "Create two panels in a figure:"
   ]
  },
  {
   "cell_type": "code",
   "execution_count": null,
   "id": "together-settlement",
   "metadata": {},
   "outputs": [],
   "source": [
    "plt.figure()  # create the frame that will hold the subsequently generated panels where the charts will live.\n",
    "\n",
    "# creates structure of subplots in the figure in configuration 2 rows x 1 column, and 'activate panel number 1\n",
    "plt.subplot(2, 1, 1) # (rows, columns, panel number)\n",
    "plt.plot(x, np.sin(x)) # plots the line on the activated panel\n",
    "\n",
    "# activates panel number 2\n",
    "plt.subplot(2, 1, 2)  \n",
    "plt.plot(x, np.cos(x));"
   ]
  },
  {
   "cell_type": "markdown",
   "id": "mental-johns",
   "metadata": {},
   "source": [
    "We can make additional columns and populate the frames similarly. We can also change the size of the figure to allow more space for our charts and add individual titles."
   ]
  },
  {
   "cell_type": "code",
   "execution_count": null,
   "id": "detailed-morocco",
   "metadata": {},
   "outputs": [],
   "source": [
    "plt.figure(figsize=(14,8))  # figsize=(float, float) : Width, height in inches\n",
    "plt.suptitle('Typical Board Riding Locations', fontsize=20) # add a super title to the container\n",
    "\n",
    "plt.subplot(2, 2, 1)\n",
    "plt.plot(x, np.sin(x))\n",
    "plt.title('Sine Wave') # add a title to the subplot\n",
    "\n",
    "plt.subplot(2, 2, 2)  \n",
    "plt.plot(x, np.cos(x))\n",
    "plt.title('Cosine Wave')\n",
    "\n",
    "with plt.style.context('grayscale'): #using a different style for this subplot\n",
    "    plt.subplot(2, 2, 3)  \n",
    "    plt.plot(x, -1*x)\n",
    "    plt.title('Ski Slope');"
   ]
  },
  {
   "cell_type": "markdown",
   "id": "extraordinary-guinea",
   "metadata": {},
   "source": [
    "Each time you activate the panel, any subsequent code will affect this chart. One drawback with the MATLAB style interface is that it is inconvenient to reactivate the first panel."
   ]
  },
  {
   "cell_type": "markdown",
   "id": "rapid-upset",
   "metadata": {},
   "source": [
    "### Object-oriented Interface"
   ]
  },
  {
   "cell_type": "markdown",
   "id": "signal-maple",
   "metadata": {},
   "source": [
    "This alternative interface is for more complex frames where you will work with a number of charts and want to interact with each one independently.\n",
    "Each chart is then a panel object that can be worked on with the built in methods. \n",
    "The panels or axes are contained within the array 'ax' and can be called using positional referencing i.e. `ax[0]` for the 1st axes or `ax[1,3]` for the panel in the 2nd row and 4th column (consider 0 is the 1st position)"
   ]
  },
  {
   "cell_type": "code",
   "execution_count": null,
   "id": "suburban-distinction",
   "metadata": {},
   "outputs": [],
   "source": [
    "\n",
    "\n",
    "# Create a grid of plots\n",
    "# ax will be a 1 dimentional array of two Axes objects\n",
    "fig, ax = plt.subplots(2, figsize=(14,4)) # is equivalent to (2,1)\n",
    "\n",
    "# Call plot() method on the appropriate object\n",
    "ax[0].plot(x, np.sin(x))\n",
    "ax[1].plot(x, -1 * x)\n",
    "ax[0].plot(x, np.cos(x)); # we can easily act on the first axes even after referencing the second.\n",
    "\n"
   ]
  },
  {
   "cell_type": "markdown",
   "id": "sealed-submission",
   "metadata": {},
   "source": [
    "### Labelling and spacing charts with Object Oriented interface"
   ]
  },
  {
   "cell_type": "code",
   "execution_count": null,
   "id": "through-lebanon",
   "metadata": {},
   "outputs": [],
   "source": [
    "# Set subplots\n",
    "fig, ax = plt.subplots(2, 2)\n",
    "fig.tight_layout(h_pad=4)\n",
    "\n",
    "#define subplot titles\n",
    "ax[0, 0].set_title('First Subplot')\n",
    "ax[0, 1].set_title('Second Subplot')\n",
    "ax[1, 0].set_title('Third Subplot')\n",
    "ax[1, 1].set_title('Fourth Subplot')\n",
    "\n",
    "#add overall title and adjust it so that it doesn't overlap with subplot titles\n",
    "fig.suptitle('Overall Title')\n",
    "plt.subplots_adjust(top=0.85)"
   ]
  },
  {
   "cell_type": "markdown",
   "id": "alive-logan",
   "metadata": {},
   "source": [
    "### Identifing objects\n",
    "It can be helpful to ask python to identify the object you are working with using the `type()`function"
   ]
  },
  {
   "cell_type": "code",
   "execution_count": null,
   "id": "aquatic-tourism",
   "metadata": {},
   "outputs": [],
   "source": [
    "# Referring to the above set of charts:\n",
    "print(type(fig))\n",
    "print(type(ax))\n",
    "print(type(ax[1,1]))"
   ]
  },
  {
   "cell_type": "markdown",
   "id": "collaborative-adventure",
   "metadata": {},
   "source": [
    "The above shows us that fig is a matplotlib figure, `ax` is a numpy array which is holding each axes which are identified as 'AxesSubplot'.\n",
    "\n",
    "We can keep this in mind when calling the methods on each of the objects."
   ]
  },
  {
   "cell_type": "code",
   "execution_count": null,
   "id": "ready-breath",
   "metadata": {},
   "outputs": [],
   "source": [
    "fig, ax = plt.subplots(2, figsize=(14,4)) # is equiveltent to (2,1)\n",
    "plt.suptitle('Typical Board Riding Locations', fontsize=20)\n",
    "fig.tight_layout(h_pad=4) # Creates space between axes for subplot titles. Try commenting out to see default behavior\n",
    "plt.subplots_adjust(top=0.75) # Creates space between figure title and 1st subplot title.\n",
    "\n",
    "ax[0].plot(x, np.sin(x))\n",
    "ax[0].plot(x, np.cos(x))\n",
    "ax[1].plot(x, -1 * x)\n",
    "\n",
    "ax[0].set_title('Surf Waves')\n",
    "ax[0].set_xlabel('x')\n",
    "ax[0].set_xlim(0,15)\n",
    "\n",
    "ax[1].set_title('Ski Slope');"
   ]
  },
  {
   "cell_type": "markdown",
   "id": "retained-waste",
   "metadata": {},
   "source": [
    "## Figure, Axes, Axis Labels: Differences between MATLAB and Object-oriented interfaces\n",
    "\n",
    "In many cases plt functions can be switched to ax methods directly but there are some differences to look out for as seen above.\n",
    "\n",
    "\n",
    "Same:\n",
    "```\n",
    "plt.plot() → ax.plot(), \n",
    "plt.legend() → ax.legend()    \n",
    "```\n",
    "Different:\n",
    "```\n",
    "plt.xlabel() → ax.set_xlabel()\n",
    "plt.ylabel() → ax.set_ylabel()\n",
    "plt.xlim() → ax.set_xlim()\n",
    "plt.ylim() → ax.set_ylim()\n",
    "plt.title() → ax.set_title()\n",
    "```"
   ]
  },
  {
   "cell_type": "markdown",
   "id": "devoted-companion",
   "metadata": {},
   "source": [
    "## Playing with Style\n",
    "As we have seen, when two lines are added to a single chart, Matplotlib draws them in different colors. It is possible to adjust the default set or to manually control this behavior as well as how the lines are drawn with parameters of the plot function (or method)."
   ]
  },
  {
   "cell_type": "code",
   "execution_count": null,
   "id": "swedish-spray",
   "metadata": {},
   "outputs": [],
   "source": [
    "# Draw a plot with lines to see how matplotlib will apply a style automatically\n",
    "plt.style.use('bmh')\n",
    "N = 10 # Number of lines to be drawn\n",
    "x = np.linspace(0, 100, 100) # x values to plot\n",
    "for n in np.linspace(0, N, N): # Create 10 lines with increasing slope\n",
    "    plt.plot(x, n * x)\n"
   ]
  },
  {
   "cell_type": "code",
   "execution_count": null,
   "id": "million-conference",
   "metadata": {},
   "outputs": [],
   "source": [
    "plt.style.use('default')\n",
    "N = 10\n",
    "x = np.linspace(0, 100, 100)\n",
    "for n in np.linspace(0, N, N):\n",
    "    plt.plot(x, n * x)\n"
   ]
  },
  {
   "cell_type": "code",
   "execution_count": null,
   "id": "alleged-composition",
   "metadata": {},
   "outputs": [],
   "source": [
    "x = np.linspace(0, 100, 50)\n",
    "\n",
    "plt.plot(x, x, linestyle='dashed') # linestyle can be used to change the line style\n",
    "plt.plot(x, 2 * x, '--' ) # linestyle can be added quickly using symbols. Try: ('-', '--', '-.', ':')\n",
    "plt.plot(x, 3 * x, color='violet', linewidth=4) # color can be changed per line by specifying it by name\n",
    "plt.plot(x, 4 * x, '.k'); # color can be added to the quick specification with letters (rgb & cmyk)\n"
   ]
  },
  {
   "cell_type": "markdown",
   "id": "union-stanley",
   "metadata": {},
   "source": [
    "## Additional Chart Elements\n",
    "We can add axis labels and a legend to ensure easy understanding of contents"
   ]
  },
  {
   "cell_type": "code",
   "execution_count": null,
   "id": "continuous-radio",
   "metadata": {},
   "outputs": [],
   "source": [
    "slopes = [1, 1.5, 2 ,2.5]\n",
    "\n",
    "x = np.linspace(-50, 50, 100)\n",
    "\n",
    "plt.plot(x, slopes[0] * x, linestyle='dotted')\n",
    "plt.plot(x, slopes[1] * x, '--k' )\n",
    "plt.plot(x, slopes[2] * x, color='violet')\n",
    "plt.plot(x, slopes[3] * x, '-.m')\n",
    "\n",
    "\n",
    "plt.xlabel('x')\n",
    "plt.ylabel('y')\n",
    "plt.ylim(-50,10)\n",
    "plt.xlim(-50,10)\n",
    "plt.legend(slopes);"
   ]
  },
  {
   "cell_type": "markdown",
   "id": "under-reward",
   "metadata": {},
   "source": [
    "Alternatively in object oriented interface the set method can be used to adjust many settings at once"
   ]
  },
  {
   "cell_type": "code",
   "execution_count": null,
   "id": "electric-scotland",
   "metadata": {},
   "outputs": [],
   "source": [
    "x = np.linspace(-50, 50, 100)\n",
    "fig = plt.figure()\n",
    "fig, ax = plt.subplots(1,2)\n",
    "plt.subplots_adjust(wspace=0) # changes space between the subplots\n",
    "ax[0].plot(x, x, linestyle='dotted')\n",
    "ax[0].plot(x, 1.5 * x, '--k' )\n",
    "ax[0].plot(x, 2 * x, color='violet')\n",
    "ax[0].plot(x, 2.5 * x, '-.m'); \n",
    "ax[0].set(xlim=(0, 25), ylim=(0, 25),\n",
    "       xlabel='x', ylabel='y values',\n",
    "       title='Starburst')\n",
    "ax[1].plot(x, x, linestyle='dotted')\n",
    "ax[1].plot(x, 1.5 * x, '--k' )\n",
    "ax[1].plot(x, 2 * x, color='violet')\n",
    "ax[1].plot(x, 2.5 * x, '-.m')\n",
    "ax[1].set(xlim=(25, 0), ylim=(0,25), # notice what happens when xlim values are reveresed\n",
    "          title='Inverse Starburst')\n",
    "ax[1].get_yaxis().set_visible(False); # removes y axis from the subplot"
   ]
  },
  {
   "cell_type": "code",
   "execution_count": null,
   "id": "catholic-suspension",
   "metadata": {},
   "outputs": [],
   "source": []
  }
 ],
 "metadata": {
  "interpreter": {
   "hash": "1ab6d479e1cd2ec09bf4553ae31932a1423a05209177038e7b1d0f242d7ebca8"
  },
  "kernelspec": {
   "display_name": "Python 3.9.10 ('nf_base_new')",
   "language": "python",
   "name": "python3"
  },
  "language_info": {
   "codemirror_mode": {
    "name": "ipython",
    "version": 3
   },
   "file_extension": ".py",
   "mimetype": "text/x-python",
   "name": "python",
   "nbconvert_exporter": "python",
   "pygments_lexer": "ipython3",
   "version": "3.9.10"
  }
 },
 "nbformat": 4,
 "nbformat_minor": 5
}
