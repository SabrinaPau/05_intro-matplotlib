{
 "cells": [
  {
   "cell_type": "markdown",
   "source": [
    "\n",
    "## Sky full of stars Exercise\n",
    "\n",
    "Your task today is to explore the different ways to display lines in Matplotlib plots\n",
    "\n",
    "    Use the tools from the intro_to_matplotlib notebook \n",
    "    Explore how to control colors and layouts\n",
    "\n",
    "\n"
   ],
   "metadata": {}
  },
  {
   "cell_type": "markdown",
   "source": [
    "### Exercise\n",
    "1) Use a single subplot to build a figure that displays a star pattern (See below), choose different colors and types for the lines.  \n",
    "<img src=\"star_output.png\" width=200 >  \n",
    "2) Use multiple subplots to display a 'X' by plotting the same single function (for example: y=x) in each subplot and only changing the axis.  \n",
    "<img src=\"star_output2.png\" width=200 > \n",
    "4) See if you can remove all 'chart junk' so that only the 'X' is displayed without any additional lines, axis, boxes etc.  \n",
    "5) Write a function based on your solution for number 1 that creates the star.\n",
    "6) Use this function in a loop to explore all the possible built in styles. See the 'dev.to' link for a guide.\n",
    "\n",
    "Tips:  \n",
    "a. Think about which matplotlib interface you will use to generate your plots.  \n",
    "b. Using the np.linspace function to build your set of X values will be helpful."
   ],
   "metadata": {}
  },
  {
   "cell_type": "markdown",
   "source": [
    "Helpful links and advice:\n",
    "\n",
    "    https://dev.to/dunderdata/instantly-beautify-matplotlib-plots-by-viewing-all-available-styles-2bjg\n",
    "    https://matplotlib.org/stable/gallery/style_sheets/style_sheets_reference.html\n",
    "    \n"
   ],
   "metadata": {}
  },
  {
   "cell_type": "code",
   "execution_count": null,
   "source": [],
   "outputs": [],
   "metadata": {}
  }
 ],
 "metadata": {
  "kernelspec": {
   "display_name": "Python [conda env:nf_base]",
   "language": "python",
   "name": "conda-env-nf_base-py"
  },
  "language_info": {
   "codemirror_mode": {
    "name": "ipython",
    "version": 3
   },
   "file_extension": ".py",
   "mimetype": "text/x-python",
   "name": "python",
   "nbconvert_exporter": "python",
   "pygments_lexer": "ipython3",
   "version": "3.8.5"
  }
 },
 "nbformat": 4,
 "nbformat_minor": 5
}