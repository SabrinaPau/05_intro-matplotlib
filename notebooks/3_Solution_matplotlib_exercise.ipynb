{
 "cells": [
  {
   "cell_type": "markdown",
   "id": "muslim-official",
   "metadata": {},
   "source": [
    "## SOLUTION"
   ]
  },
  {
   "cell_type": "code",
   "execution_count": null,
   "id": "motivated-eating",
   "metadata": {},
   "outputs": [],
   "source": [
    "\n",
    "## Sky full of stars Exercise\n",
    "\n",
    "Your task today is to explore the different ways to display lines in Matplotlib plots\n",
    "\n",
    "    Use the tools from the intro_to_matplotlib notebook \n",
    "    Explore how to control colors and layouts\n",
    "\n",
    "Helpful links and advice:\n",
    "\n",
    "    https://dev.to/dunderdata/instantly-beautify-matplotlib-plots-by-viewing-all-available-styles-2bjg\n",
    "    https://matplotlib.org/stable/gallery/style_sheets/style_sheets_reference.html\n",
    "    \n",
    "        8 Tactics to Combat Imbalanced Classes\n",
    "        Random-Oversampling/Undersampling\n"
   ]
  },
  {
   "cell_type": "code",
   "execution_count": null,
   "id": "radical-pantyhose",
   "metadata": {},
   "outputs": [],
   "source": [
    "### Exercise\n",
    "Use two different methods to build a figure that displays data in an star (it should have 3 lines and look like a '*' ):\n",
    "1. Use a single subplot to build a figure that displays a star patern (it should have 4 lines and look like a '*' ), choose different colors and types for the lines.\n",
    "2. Use multiple subplots to display a 'X' by ploting the same single function (for example: y=x) in each subplot and only changing the axis.\n",
    "3. See if you can remove all 'chart junk' so that only the 'X' is displayed without any additonal lines, axis, boxes etc.\n",
    "4. Write a function based on your solution for number 1 that creates the star. Include the axis.\n",
    "5. Use this function in a loop to explore all the possible built in stlyes. See Below for a guide\n",
    "\n",
    "Tips:  \n",
    "a. Think about which interface you will use to generate your plots.   \n",
    "b. Using the np.linspace function to build your set of X values will be helpful.\n",
    "c. Think about colour and width"
   ]
  },
  {
   "cell_type": "code",
   "execution_count": null,
   "id": "convertible-significance",
   "metadata": {},
   "outputs": [],
   "source": [
    "import matplotlib # Imports matplotlib library\n",
    "import matplotlib.pyplot as plt # Imports pyplot\n",
    "import numpy as np # import numpy for b uilding arrays"
   ]
  },
  {
   "cell_type": "markdown",
   "id": "colonial-component",
   "metadata": {},
   "source": [
    "1. Build a star"
   ]
  },
  {
   "cell_type": "code",
   "execution_count": null,
   "id": "specialized-voluntary",
   "metadata": {},
   "outputs": [],
   "source": [
    "x = np.linspace(-50, 50, 100)\n",
    "plt.plot(x,(x*0), 'm')\n",
    "plt.plot(x,x)\n",
    "plt.plot(x,-x,)\n",
    "plt.plot(x*0,(x), '--');"
   ]
  },
  {
   "cell_type": "markdown",
   "id": "civilian-cartoon",
   "metadata": {},
   "source": [
    "2. Build star parts"
   ]
  },
  {
   "cell_type": "code",
   "execution_count": null,
   "id": "available-sound",
   "metadata": {},
   "outputs": [],
   "source": [
    "x = np.linspace(-50, 50, 100)\n",
    "\n",
    "fig = plt.figure(figsize=(4,4))\n",
    "fig, ax = plt.subplots(2,2)\n",
    "plt.subplots_adjust(wspace=0) # changes space between the subplots\n",
    "plt.subplots_adjust(hspace=0) # changes space between the subplots\n",
    "\n",
    "ax[0, 0].plot(x, x)\n",
    "ax[0, 0].get_xaxis().set_visible(False)\n",
    "ax[0, 0].set(xlim=(-25,0), ylim=(0, -25))\n",
    "\n",
    "ax[0, 1].plot(x, x, linestyle='dotted')\n",
    "ax[0, 1].set(xlim=(0, 25), ylim=(0, 25))\n",
    "ax[0, 1].get_yaxis().set_visible(False)\n",
    "ax[0, 1].get_xaxis().set_visible(False)\n",
    "\n",
    "ax[1, 0].plot(x, x, linestyle='dotted')\n",
    "ax[1, 0].set(xlim=(25,0), ylim=(25, 0))\n",
    "\n",
    "ax[1, 1].plot(x, x,'r')\n",
    "ax[1, 1].set(xlim=(-25,0), ylim=(0,-25))\n",
    "ax[1,1].get_yaxis().set_visible(False);\n",
    "\n",
    " \n",
    "\n",
    "\n"
   ]
  },
  {
   "cell_type": "code",
   "execution_count": null,
   "id": "young-sympathy",
   "metadata": {},
   "outputs": [],
   "source": [
    "3. Floating Star"
   ]
  },
  {
   "cell_type": "code",
   "execution_count": null,
   "id": "descending-clearance",
   "metadata": {},
   "outputs": [],
   "source": [
    "x = np.linspace(-50, 50, 100)\n",
    "\n",
    "fig = plt.figure(figsize=(4,4))\n",
    "fig, ax = plt.subplots(2,2)\n",
    "plt.subplots_adjust(wspace=0) # changes space between the subplots\n",
    "plt.subplots_adjust(hspace=0) # changes space between the subplots\n",
    "\n",
    "ax[0, 0].plot(x, x)\n",
    "ax[0, 0].plot(x, x*0)\n",
    "ax[0, 0].axis('off')\n",
    "ax[0, 0].set(xlim=(-25,0), ylim=(0, -25))\n",
    "\n",
    "ax[0, 1].plot(x, x, linestyle='dotted')\n",
    "ax[0,1].set(xlim=(0, 25), ylim=(0, 25))\n",
    "ax[0, 1].plot(x, x*0)\n",
    "ax[0, 1].axis('off')\n",
    "\n",
    "ax[1, 0].plot(x, x, linestyle='dotted')\n",
    "ax[1, 0].set(xlim=(25,0), ylim=(25, 0))\n",
    "ax[1, 0].plot(x*0, x, '--')\n",
    "ax[1, 0].axis('off')\n",
    "\n",
    "ax[1, 1].plot(x, x,'r')\n",
    "ax[0, 0].plot(x*0, x)\n",
    "ax[1, 1].set(xlim=(-25,0), ylim=(0,-25))\n",
    "ax[1, 1].axis('off');\n"
   ]
  },
  {
   "cell_type": "code",
   "execution_count": null,
   "id": "responsible-sacramento",
   "metadata": {},
   "outputs": [],
   "source": [
    "def create_star():\n",
    "    plt.plot(x,(x*0), 'm')\n",
    "    plt.plot(x,x,'.')\n",
    "    plt.plot(x,-x,)\n",
    "    plt.plot(x*0,(x), '--')"
   ]
  },
  {
   "cell_type": "code",
   "execution_count": null,
   "id": "durable-course",
   "metadata": {},
   "outputs": [],
   "source": [
    "create_star()"
   ]
  },
  {
   "cell_type": "code",
   "execution_count": null,
   "id": "several-apparatus",
   "metadata": {},
   "outputs": [],
   "source": [
    "x = np.linspace(-50, 50, 20)\n",
    "fig = plt.figure(dpi=100, figsize=(10, 20), tight_layout=True)\n",
    "available = ['default'] + plt.style.available\n",
    "\n",
    "for i, style in enumerate(available):\n",
    "    with plt.style.context(style):\n",
    "        ax = fig.add_subplot(10, 3, i + 1)\n",
    "        create_star()\n",
    "    ax.set_title(style)"
   ]
  },
  {
   "cell_type": "code",
   "execution_count": null,
   "id": "wired-controversy",
   "metadata": {},
   "outputs": [],
   "source": []
  }
 ],
 "metadata": {
  "kernelspec": {
   "display_name": "Python [conda env:nf_base]",
   "language": "python",
   "name": "conda-env-nf_base-py"
  },
  "language_info": {
   "codemirror_mode": {
    "name": "ipython",
    "version": 3
   },
   "file_extension": ".py",
   "mimetype": "text/x-python",
   "name": "python",
   "nbconvert_exporter": "python",
   "pygments_lexer": "ipython3",
   "version": "3.8.5"
  }
 },
 "nbformat": 4,
 "nbformat_minor": 5
}
