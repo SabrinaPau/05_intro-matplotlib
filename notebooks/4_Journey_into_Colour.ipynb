{
 "cells": [
  {
   "cell_type": "markdown",
   "id": "precious-bradley",
   "metadata": {},
   "source": [
    "## Scatter plots\n",
    "\n",
    "Here is a step by step code-a-long to get from the standard output of a scatterplot to a cool optimized visualization\n",
    "\n",
    "The goal of data visualization is to learn and communicate insights about a dataset, specifically show the relationship between two variables in a dataset.\n",
    "At the end of the notebook you will know how to:\n",
    "\n",
    "    Create Scatterplots\n",
    "    Change color schemes\n",
    "    Work with colormaps\n",
    "\n",
    "We'll be using Pandas DataFrames as the basis for these exercises as this is a usual use case while doing EDA.\n",
    "\n",
    "We will be working with the Wine dataset from the UCI machine learning library. Info is here https://archive.ics.uci.edu/ml/datasets/wine\n",
    "\n",
    "\n",
    "source: https://betterprogramming.pub/how-to-use-colormaps-with-matplotlib-to-create-colorful-plots-in-python-969b5a892f0c by Elizabeth Ter Sahakyan"
   ]
  },
  {
   "cell_type": "code",
   "execution_count": null,
   "id": "touched-instrument",
   "metadata": {},
   "outputs": [],
   "source": [
    "import pandas as pd\n",
    "import matplotlib.pyplot as plt"
   ]
  },
  {
   "cell_type": "code",
   "execution_count": null,
   "id": "experienced-conflict",
   "metadata": {},
   "outputs": [],
   "source": [
    "# Use the Wine dataset from the UCI machine learning library\n",
    "\n",
    "#define column headers\n",
    "columns = ['Alcohol','Malic acid','Ash','Alcalinity of ash', 'Magnesium','Total phenols','Flavanoids',\n",
    "           'Nonflavanoid phenols','Proanthocyanins','Color intensity','Hue','OD280/OD315 of diluted wines','Proline']\n",
    "\n",
    "# read_csv directly from url\n",
    "wine_df = pd.read_csv('https://archive.ics.uci.edu/ml/machine-learning-databases/wine/wine.data', names = columns)"
   ]
  },
  {
   "cell_type": "code",
   "execution_count": null,
   "id": "conceptual-starter",
   "metadata": {},
   "outputs": [],
   "source": [
    "# Take a look at the data\n",
    "wine_df.head()"
   ]
  },
  {
   "cell_type": "code",
   "execution_count": null,
   "id": "discrete-norman",
   "metadata": {},
   "outputs": [],
   "source": [
    "wine_df.describe().round(2)"
   ]
  },
  {
   "cell_type": "code",
   "execution_count": null,
   "id": "scheduled-drawing",
   "metadata": {},
   "outputs": [],
   "source": [
    "# set up figure and ax using object oriented interface\n",
    "fig, ax1 = plt.subplots(figsize=(10,8))\n",
    "\n",
    "#labels\n",
    "ax1.set_xlabel('Alcohol')\n",
    "ax1.set_ylabel('Color Intensity')\n",
    "ax1.set_title('Relationship Between Color Intensity and Alcohol Content in Wines')\n",
    "\n",
    "#plot\n",
    "plt.scatter(wine_df['Alcohol'], # value for x axis\n",
    "            wine_df['Color intensity'], # value for y axis\n",
    "            s = 300); # Size of the dots"
   ]
  },
  {
   "cell_type": "markdown",
   "id": "collected-brass",
   "metadata": {},
   "source": [
    "The simple approach to changing the colour is to use the 'color' parameter when calling the scatter function"
   ]
  },
  {
   "cell_type": "code",
   "execution_count": null,
   "id": "latter-passion",
   "metadata": {},
   "outputs": [],
   "source": [
    "# Same setup as before\n",
    "fig, ax1 = plt.subplots(figsize=(10,8))\n",
    "\n",
    "ax1.set_xlabel('Alcohol')\n",
    "ax1.set_ylabel('Color Intensity')\n",
    "ax1.set_title('Relationship Between Color Intensity and Alcohol Content in Wines')\n",
    "\n",
    "# Set the color inside the scatter method and adjust the 'alpha' to allow transparancy\n",
    "plt.scatter(wine_df['Alcohol'], \n",
    "            wine_df['Color intensity'], \n",
    "            s = 300, \n",
    "            color = 'green', \n",
    "            alpha = 0.5); "
   ]
  },
  {
   "cell_type": "markdown",
   "id": "indian-functionality",
   "metadata": {},
   "source": [
    "### Colormaps\n",
    "\n",
    "It is possible to color the scatterplot points based on a value in the dataset using a colormap. Colormaps take the arguments c and cmap inside scatter(), and color is not used. To use matplotlib colormaps, leave out the color argument and use 'c' and 'cmap'.\n",
    "\n",
    "c is the array of numbers that will be mapped to the colorspace in the colormap. So point this at the column in our data that will be coloured.\n",
    "\n",
    "There are many colormaps to choose from and the idea is to find one that works for the specifics of your dataset. Consider the following when choosing:\n",
    "\n",
    "    * Whether representing form or metric data \n",
    "    * Your knowledge of the data set (e.g., is there a critical value from which the other values deviate?)\n",
    "    * If there is an intuitive color scheme for the parameter you are plotting\n",
    "    * If there is a standard in the field the audience may be expecting\n",
    "\n",
    "For more read:\n",
    "Color Sequences for Univariate Maps by Colin Ware:  http://ccom.unh.edu/sites/default/files/publications/Ware_1988_CGA_Color_sequences_univariate_maps.pdf  \n",
    "All about colorblindness: https://www.color-blindness.com/"
   ]
  },
  {
   "cell_type": "code",
   "execution_count": null,
   "id": "vulnerable-smell",
   "metadata": {},
   "outputs": [],
   "source": [
    "# Same setup again\n",
    "fig, ax1 = plt.subplots(figsize=(10,8))\n",
    "\n",
    "ax1.set_xlabel('Alcohol')\n",
    "ax1.set_ylabel('Color Intensity')\n",
    "ax1.set_title('Relationship Between Color Intensity and Alcohol Content in Wines')\n",
    "\n",
    "# Plot!\n",
    "plt.scatter(wine_df['Alcohol'],\n",
    "            wine_df['Color intensity'],\n",
    "            c = wine_df['Color intensity'],\n",
    "            cmap = 'spring_r', # try removing '_r' from the end of the cmap name\n",
    "            s = 300, \n",
    "            alpha = 0.5) \n",
    "cbar = plt.colorbar()\n",
    "cbar.set_label('Color Intensity')"
   ]
  },
  {
   "cell_type": "code",
   "execution_count": null,
   "id": "opposite-uniform",
   "metadata": {},
   "outputs": [],
   "source": []
  }
 ],
 "metadata": {
  "kernelspec": {
   "display_name": "Python [conda env:nf_base]",
   "language": "python",
   "name": "conda-env-nf_base-py"
  },
  "language_info": {
   "codemirror_mode": {
    "name": "ipython",
    "version": 3
   },
   "file_extension": ".py",
   "mimetype": "text/x-python",
   "name": "python",
   "nbconvert_exporter": "python",
   "pygments_lexer": "ipython3",
   "version": "3.8.5"
  }
 },
 "nbformat": 4,
 "nbformat_minor": 5
}
