{
 "cells": [
  {
   "cell_type": "markdown",
   "id": "packed-pasta",
   "metadata": {},
   "source": [
    "# Plotting Distributions\n",
    "\n",
    "Now it is time to apply and expand our knowledge of plotting in matplotlib to the visualization of distributions. This is an important part of exploring datasets to understand the composition of the various fields. \n",
    "\n",
    "### Learning Objective\n",
    "\n",
    "At the end of this notebook you will be able to:\n",
    "\n",
    "    Implement binning of continuous data\n",
    "    Create histograms to visualize distributions\n",
    "    Build bar charts from a dataset\n",
    "    Visualize 2 distributions in one chart\n",
    "    Build complex and composite charts from a dataset\n",
    "    Split charts using categorical variables\n",
    "    \n",
    "We'll be using Pandas DataFrames as the basis for these exercises as this is a usual use case while doing EDA.\n",
    "We will continue to use matplotlib and introduce Seaborn as an additional way to create nice charts.\n",
    "\n",
    "We will be working with data from the Bureau of Transportation Statistics of the U.S. Department of Transportation\n",
    "\n",
    "The specific dataset we are working with can be downloaded here:\n",
    "https://www.transtats.bts.gov/DL_SelectFields.asp?gnoyr_VQ=FGJ&QO_fu146_anzr=b0-gvzr\n"
   ]
  },
  {
   "cell_type": "code",
   "execution_count": null,
   "id": "powerful-december",
   "metadata": {},
   "outputs": [],
   "source": [
    "import matplotlib # Imports entire matplotlib library\n",
    "import matplotlib.pyplot as plt # Imports the plotting interface and gives a shortcut\n",
    "import numpy as np # we will use numpy to generate the data used in our sample charts\n",
    "import pandas as pd\n",
    "import seaborn as sns"
   ]
  },
  {
   "cell_type": "markdown",
   "id": "regular-logging",
   "metadata": {},
   "source": [
    "### What is a histogram?\n",
    "It is a common chart type that is helpful in showing how values of an observations in a dataset are distributed throughout the dataset. In other words, how many observations being to each value or set of values.\n",
    "\n",
    "Here is a simple example of 1000 random observations"
   ]
  },
  {
   "cell_type": "code",
   "execution_count": null,
   "id": "numeric-classification",
   "metadata": {},
   "outputs": [],
   "source": [
    "x = np.random.randn(1000)\n",
    "plt.hist(x);"
   ]
  },
  {
   "cell_type": "markdown",
   "id": "adapted-madagascar",
   "metadata": {},
   "source": [
    "This looks like a nice bell curve which is due to the fact that the numpy randn function takes samples from a normal distribution.\n",
    "We will look at a real world dataset of flight delays to see how they are distributed."
   ]
  },
  {
   "cell_type": "code",
   "execution_count": null,
   "id": "sustained-wells",
   "metadata": {},
   "outputs": [],
   "source": [
    "# Path of the file to read\n",
    "flights_filepath = '../data/586855489_T_ONTIME_REPORTING_April_2020_2.csv'\n",
    "\n",
    "# Read the file into a variable iris_data\n",
    "df = pd.read_csv(flights_filepath, header=0)\n",
    "\n",
    "# Print the first 5 rows of the data\n",
    "display(df.shape)\n",
    "display(df.info())\n",
    "\n"
   ]
  },
  {
   "cell_type": "code",
   "execution_count": null,
   "id": "posted-missouri",
   "metadata": {},
   "outputs": [],
   "source": [
    "df.describe().round(2)"
   ]
  },
  {
   "cell_type": "code",
   "execution_count": null,
   "id": "institutional-flavor",
   "metadata": {},
   "outputs": [],
   "source": [
    "# Clean up dataframe\n",
    "df.drop(axis=1,columns='Unnamed: 12', inplace=True) # drop random extra column\n",
    "\n",
    "# Change data type for date\n",
    "df['FL_DATE'] = pd.to_datetime(df['FL_DATE'])\n",
    "display(df.info())"
   ]
  },
  {
   "cell_type": "markdown",
   "id": "automated-rainbow",
   "metadata": {},
   "source": [
    "## Histograms\n",
    "\n",
    "The histogram shows the distribution of data across the x value as split into 'bins' to group and count the observations. Bins are equally sized and span the range of x values. It is possible to specify the number of bins you would like and the bin size will be chosen by splitting the range accordingly.\n",
    "The below is an easy way of showing the histogram but it is not a great visualization, as it is small and is full of chart junk.\n",
    "Fortunately we can use the object orientated interface of Matplotlib to manipulate the panel by referencing the 'ax' inside the `hist()` method, which we will show next."
   ]
  },
  {
   "cell_type": "code",
   "execution_count": null,
   "id": "criminal-recall",
   "metadata": {},
   "outputs": [],
   "source": [
    "df.hist(column='AIR_TIME', bins=20)"
   ]
  },
  {
   "cell_type": "markdown",
   "id": "handed-isolation",
   "metadata": {},
   "source": []
  },
  {
   "cell_type": "code",
   "execution_count": null,
   "id": "economic-texture",
   "metadata": {},
   "outputs": [],
   "source": [
    "# Here we introduce a technique for making 'chained' code more readable, understandable and editable\n",
    "\n",
    "# Count the number of observations with flight time above 420 minutes\n",
    "(\n",
    "    df    # We start with our dataframe\n",
    "    .loc[df['AIR_TIME'] > 420] # filter it down to rows that have flight time more than 420 mintues\n",
    "    .count()['AIR_TIME']  # we count the resulting rows\n",
    ")"
   ]
  },
  {
   "cell_type": "code",
   "execution_count": null,
   "id": "english-belief",
   "metadata": {},
   "outputs": [],
   "source": [
    "# Note the above is equivilent to the following \n",
    "df.loc[df['AIR_TIME'] > 420].count()['AIR_TIME']"
   ]
  },
  {
   "cell_type": "code",
   "execution_count": null,
   "id": "cheap-guinea",
   "metadata": {},
   "outputs": [],
   "source": [
    "fig, ax = plt.subplots(figsize=(10,5))\n",
    "\n",
    "xmax = 420 # based on the above we can reduce the xaxis to not show the flights over 7 hours\n",
    "bins = 21 # a nice number of bins based on range\n",
    "\n",
    "(\n",
    "    df\n",
    "    .loc[df['AIR_TIME'] < xmax]\n",
    "    .hist(ax=ax, \n",
    "          column='AIR_TIME',\n",
    "          bins=bins, \n",
    "          edgecolor=\"black\", \n",
    "          linewidth=1, color='w')\n",
    ")\n",
    "\n",
    "# These can also be set in the hist method\n",
    "ax.grid(False)\n",
    "ax.set_title('Histogram of Air Travel Time')\n",
    "ax.set_ylabel('Count of Flights')\n",
    "ax.set_xlabel(f'Air Travel Time  ({int(xmax/bins)} minute bins)');\n"
   ]
  },
  {
   "cell_type": "code",
   "execution_count": null,
   "id": "canadian-syndication",
   "metadata": {},
   "outputs": [],
   "source": [
    "# Bar Chart\n",
    "\n",
    "fig, ax = plt.subplots(figsize=(10,5))\n",
    "(\n",
    "    df\n",
    "    .groupby('OP_UNIQUE_CARRIER') # aggregate data to level of airline\n",
    "    .count()['FL_DATE'] # count the observations\n",
    "    .sort_values() # sort the values in descending\n",
    "    .plot.barh() # Make a bar chart based on the dataframe\n",
    ")\n",
    "ax.set_title('Flight Volume by Airline in the USA April 2020')\n",
    "\n",
    "ax.set_xlabel('Count of Flights');\n",
    "ax.set_ylabel('Airline Unique Code');\n"
   ]
  },
  {
   "cell_type": "markdown",
   "id": "increased-cuisine",
   "metadata": {},
   "source": [
    "## Seaborn\n",
    "Seaborn is built on top of Matplotlib and has some nice features for plotting distributions like drawing the kernel density estimate (KDE) plot (smoothed histogram) directly on the histogram.\n",
    "\n",
    "We can explore different ways to display two distributions at the same time. We can determine roughly if the data behave similarly across the two dimensions."
   ]
  },
  {
   "cell_type": "code",
   "execution_count": null,
   "id": "documented-title",
   "metadata": {},
   "outputs": [],
   "source": [
    "# As Subplots\n",
    "fig, ax = plt.subplots(2,1, figsize=(10,5))\n",
    "fig.tight_layout(h_pad=4)\n",
    "\n",
    "fig.suptitle('Distributions of Flight Performance')\n",
    "plt.subplots_adjust(top=0.90)\n",
    "\n",
    "xmax = 120 # Limit our misery and ignore delays over 2 hours\n",
    "bins = 60\n",
    "\n",
    "sns.histplot(ax = ax[0], \n",
    "             data = df.loc[df['ARR_DELAY'] < xmax],\n",
    "             x = 'ARR_DELAY', \n",
    "             bins = bins,\n",
    "             kde = True)\n",
    "sns.histplot(ax = ax[1], \n",
    "             data = df.loc[df['AIR_TIME'] < 420], \n",
    "             x = 'AIR_TIME', \n",
    "             bins = bins, \n",
    "             kde = True);\n",
    "\n"
   ]
  },
  {
   "cell_type": "markdown",
   "id": "cutting-safety",
   "metadata": {},
   "source": [
    "### Overlapping Charts\n",
    "By plotting multiple charts on the single axes it is easy to compare distributions. "
   ]
  },
  {
   "cell_type": "code",
   "execution_count": null,
   "id": "sufficient-forest",
   "metadata": {},
   "outputs": [],
   "source": [
    "fig, ax = plt.subplots(figsize=(10,5))\n",
    "\n",
    "xmax = 120\n",
    "bins = 75\n",
    "sns.histplot(ax = ax,\n",
    "             data = df.loc[df['ARR_DELAY'] < xmax],\n",
    "             x = 'ARR_DELAY',\n",
    "             bins = bins,\n",
    "             kde = True, \n",
    "             color = 'r')\n",
    "\n",
    "sns.histplot(ax = ax, \n",
    "             data = df.loc[df['DEP_DELAY'] < xmax], \n",
    "             x = 'DEP_DELAY', \n",
    "             bins = bins,\n",
    "             kde = True, \n",
    "             color = 'b', \n",
    "             alpha = 0.5); # Setting the alpha creates transparency\n",
    "\n",
    "ax.set_xlabel('Delay in Minutes')\n",
    "ax.legend(['Arrival Delay', 'Departure Delay']);"
   ]
  },
  {
   "cell_type": "markdown",
   "id": "signed-fighter",
   "metadata": {},
   "source": [
    "# Criticism of Histograms\n",
    "The decisions that need to be made while building a histogram will lead to different results, so therefore the histogram is not an unbiased method of displaying data.\n",
    "The output will change based on the bin size, and treatment of extreme values. Therefore the interpretation of the results are based on the choice made while creating the chart.  \n",
    "Just check the number of parameters that can be adjusted in the sns.histplot() function to see how much influence your choices have on the output.\n",
    "\n",
    "In general Histograms have the following issues:\n",
    "* Changes to the number of bins can radically change the shape.\n",
    "* The maximum and minimum values (and their treatment) will change the shape\n",
    "* Consideration of specific individual observations is not possible\n",
    "* The differences between discrete and continuous data is lost\n",
    "* Comparing distributions is hard due to the impact of choices made above\n"
   ]
  },
  {
   "cell_type": "code",
   "execution_count": null,
   "id": "sunset-conversation",
   "metadata": {},
   "outputs": [],
   "source": [
    "# As Subplots\n",
    "fig, ax = plt.subplots(2,2, figsize=(20,5))\n",
    "fig.tight_layout(h_pad=4)\n",
    "\n",
    "fig.suptitle('4 histograms of the same data')\n",
    "plt.subplots_adjust(top=0.90)\n",
    "\n",
    "xmax = 120 # Reasonable filter of extreme values\n",
    "xmax_2 = 500 # just extreme! values\n",
    "bins_1 = 60 \n",
    "bins_2 = 150\n",
    "sns.histplot(ax = ax[0,0], \n",
    "             data = df.loc[df['ARR_DELAY'] < xmax], # ignore outliers\n",
    "             x = 'ARR_DELAY', \n",
    "             bins = bins) # less bins\n",
    "sns.histplot(ax = ax[0,1], \n",
    "             data = df, # no outlier removal\n",
    "             x = 'ARR_DELAY', \n",
    "             bins = bins);\n",
    "\n",
    "sns.histplot(ax = ax[1,0], \n",
    "             data = df.loc[df['ARR_DELAY'] < xmax], # ignore outliers\n",
    "             x = 'ARR_DELAY', \n",
    "             bins = bins_2) # more bins\n",
    "sns.histplot(ax = ax[1,1], \n",
    "             data = df.loc[df['ARR_DELAY'] < xmax_2], # Just extreme value removal\n",
    "             x = 'ARR_DELAY', \n",
    "             bins = bins_2) ; # more bins\n",
    "\n"
   ]
  },
  {
   "cell_type": "markdown",
   "id": "center-sterling",
   "metadata": {},
   "source": [
    "### Cumlative Distribution Plots to the resuce?\n",
    "https://towardsdatascience.com/6-reasons-why-you-should-stop-using-histograms-and-which-plot-you-should-use-instead-31f937a0a81c  \n",
    "According to this we should use CDPs instead. It is worth considering but Histograms are well understood by audiences and the classic normal curve is instantly recognisable.\n"
   ]
  },
  {
   "cell_type": "markdown",
   "id": "southwest-cornell",
   "metadata": {},
   "source": [
    "### Exercise:\n",
    "Can you revisit our overlapping chart example of ARR_DELAY and DEP_DELAY and plot the CDP using seaborn?.\n",
    "Does this solve all the issues as promised?\n"
   ]
  },
  {
   "cell_type": "markdown",
   "id": "noble-conversation",
   "metadata": {},
   "source": [
    "## Composite Charts\n",
    "Seaborn has a number of composite chart types that allow the comparison of multiple data columns using a combination of charts. \n",
    "\n",
    "For example we can compare the distributions of two columns with the jointplot which is a builtin Seaborn plot type. It shows the histograms for each column and a addition chart that displays the distribution of observations across the two dimensions at the same time, such as a scatter plot.\n",
    "\n"
   ]
  },
  {
   "cell_type": "code",
   "execution_count": null,
   "id": "tutorial-copyright",
   "metadata": {},
   "outputs": [],
   "source": [
    "df_plot = (\n",
    "            df\n",
    "            .loc[df['ARR_DELAY'] < 80]\n",
    "            .loc[df['AIR_TIME'] < 240]\n",
    "            .sample(n=1000) # take a small sample of the data for purpose of visualization\n",
    "            )\n",
    "\n",
    "sns.jointplot(data = df_plot, \n",
    "                  x = 'ARR_DELAY', \n",
    "                  xlim = (-80,60), \n",
    "                  y = 'AIR_TIME', \n",
    "                  ylim = (0,240), \n",
    "                  kind = 'scatter');"
   ]
  },
  {
   "cell_type": "markdown",
   "id": "premium-square",
   "metadata": {},
   "source": [
    "## Figure Level Functions\n",
    "\n",
    "We have previously introduced the two ways Matplotlib creates figures, either MATLAB or Object-oriented interface. In both of these interfaces there are methods that control the figure (`fig.`)  and other methods that control the axes (`ax.`).\n",
    "Seaborn has some plot functions that work in the same way in that they create axes level objects that are the same as matplotlib charts. \n",
    "\n",
    "When using Seaborns's complex charts, Seaborn will generates the figure (grid) and axes it needs. To customize aspects of this complex chart it is necessary to get a hold of these objects and apply the relevant functions to them.\n",
    "\n"
   ]
  },
  {
   "cell_type": "markdown",
   "id": "distinguished-supply",
   "metadata": {},
   "source": [
    "As we did in the first notebook we can use the `type()`function to get an idea of what objects we are working with"
   ]
  },
  {
   "cell_type": "code",
   "execution_count": null,
   "id": "modular-potter",
   "metadata": {},
   "outputs": [],
   "source": [
    "# KDE functions can be quite CPU intensive for large datasets\n",
    "df_plot = (\n",
    "            df\n",
    "            .loc[df['ARR_DELAY'] < 80]\n",
    "            .loc[df['AIR_TIME'] < 240]\n",
    "            .sample(n=1000))\n",
    "\n",
    "df_plot[\"WEEKDAY\"] = df_plot[\"FL_DATE\"].apply(lambda x: x.weekday())\n",
    "\n",
    "\n",
    "grid = sns.jointplot(data = df_plot, \n",
    "                      x = 'ARR_DELAY', \n",
    "                      xlim = (-80,60), \n",
    "                      y = 'AIR_TIME', \n",
    "                      ylim = (0,240), \n",
    "                      kind = 'scatter')\n",
    "\n",
    "grid.plot_joint(sns.kdeplot) # We can add an additional chart to the joint axes of the grid"
   ]
  },
  {
   "cell_type": "markdown",
   "id": "numeric-series",
   "metadata": {},
   "source": [
    "Here is a list of the composite chart type objects from Seaborn:  \n",
    "PairGrid, FacetGrid, JointGrid\n",
    "\n",
    "Note that `jointplot()` created a JointGrid object."
   ]
  },
  {
   "cell_type": "markdown",
   "id": "continued-craft",
   "metadata": {},
   "source": [
    "## Examples of working with seaborn\n",
    "Work carefully through the below code and examine the output to see how you can customise the figure and charts"
   ]
  },
  {
   "cell_type": "code",
   "execution_count": null,
   "id": "compatible-marble",
   "metadata": {},
   "outputs": [],
   "source": [
    "# Set up dataframe\n",
    "df_plot = (\n",
    "            df\n",
    "            .loc[df['ARR_DELAY'] < 80]\n",
    "            .loc[df['AIR_TIME'] < 240]\n",
    "            .loc[df['OP_UNIQUE_CARRIER'].isin(['UA', 'OH', 'OO' 'AA', 'DV', 'MQ', 'DL', 'F9'])] # List of Carriers we want to view in more detail\n",
    ")\n",
    "df_plot[\"WEEKDAY\"] = df_plot[\"FL_DATE\"].apply(lambda x: x.weekday()) # add a category for day of week\n",
    "\n",
    "# Create a grid object with columns and rows that split based on categories\n",
    "grid = sns.FacetGrid(df_plot,\n",
    "                     row = 'OP_UNIQUE_CARRIER',\n",
    "                     col = 'WEEKDAY',\n",
    "                     despine = True, # Removes the top and left axis of the subplots\n",
    "                     margin_titles = True); # Displays row and column titles only on margins instead of on each axes\n",
    "\n",
    "# Fill the grid with subplots\n",
    "grid.map(sns.scatterplot, # Fill with scatterplots\n",
    "         'ARR_DELAY', # x-axis\n",
    "         'DEP_DELAY', # y-axis\n",
    "         color = 'k', # color things black \n",
    "         s = 100, # set the size of the dots\n",
    "         alpha = 0.1) # set the transparency           \n",
    "\n",
    "ax1 = grid.axes_dict[('UA', 4)] # We can get ahold of the axes object to work with it directly by referencing the combination of row and column values\n",
    "ax1.set_visible(False) # For some reason hide this plot\n",
    "\n",
    "ax2 = grid.axes_dict[('MQ', 2)]\n",
    "ax2.set_facecolor('y') # Change background color for this 'interesting' chart\n",
    "ax2.set_title('This is yellow'); # Just in case people missed it\n"
   ]
  },
  {
   "cell_type": "markdown",
   "id": "olive-guatemala",
   "metadata": {},
   "source": [
    "The above is a deconstruction of the facetgrid. Using the built-in pairplot and other seaborn functions many specific combinations of charts can be generated without so much manual coding of the charts."
   ]
  },
  {
   "cell_type": "markdown",
   "id": "healthy-government",
   "metadata": {},
   "source": [
    "## Next Steps\n",
    "We can use the groupby function to aggregate and explore at a metric level."
   ]
  },
  {
   "cell_type": "code",
   "execution_count": null,
   "id": "smooth-tournament",
   "metadata": {},
   "outputs": [],
   "source": [
    "# We can also aggregate the data up to 'day' level so we have one row per day. \n",
    "# We use the mean aggregation to summarize the values.\n",
    "# These new summaries can then be plotted to show the relationshps between days\n",
    "\n",
    "df_plot_2 = df.groupby(by='FL_DATE').mean()\n",
    "g = sns.jointplot(data = df_plot_2, \n",
    "                  x = 'ARR_DELAY', \n",
    "                  y = 'DEP_DELAY',\n",
    "                  kind = 'scatter')\n",
    "g.plot_joint(sns.kdeplot)"
   ]
  },
  {
   "cell_type": "code",
   "execution_count": null,
   "id": "copyrighted-cooperative",
   "metadata": {},
   "outputs": [],
   "source": [
    "# We can view the table to see what the underlying data now looks like. Remember the values are now the average of all flights on that day\n",
    "(\n",
    "    df_plot_2\n",
    "    .sort_values(by='ARR_DELAY')\n",
    "    .round(2)\n",
    ")"
   ]
  },
  {
   "cell_type": "markdown",
   "id": "affiliated-clerk",
   "metadata": {},
   "source": [
    "### Considerations when grouping\n",
    "The grouping has some impacts that we may not have wanted or expected.  \n",
    "What has happened to the categorical columns?  \n",
    "What about the 'ID' columns, are these still valid?"
   ]
  },
  {
   "cell_type": "markdown",
   "id": "radical-dinner",
   "metadata": {},
   "source": [
    "### Exercise\n",
    "Are there other relationships that could be explored?\n",
    "\n",
    "1. Use Bar charts to display the airlines based on one aggregated measure\n",
    "2. Build multiple bar charts in either subplots or a single panel to explore how airlines perform across a few metrics"
   ]
  },
  {
   "cell_type": "code",
   "execution_count": null,
   "id": "reserved-tongue",
   "metadata": {},
   "outputs": [],
   "source": []
  }
 ],
 "metadata": {
  "kernelspec": {
   "display_name": "Python [conda env:nf_base]",
   "language": "python",
   "name": "conda-env-nf_base-py"
  },
  "language_info": {
   "codemirror_mode": {
    "name": "ipython",
    "version": 3
   },
   "file_extension": ".py",
   "mimetype": "text/x-python",
   "name": "python",
   "nbconvert_exporter": "python",
   "pygments_lexer": "ipython3",
   "version": "3.8.5"
  }
 },
 "nbformat": 4,
 "nbformat_minor": 5
}
